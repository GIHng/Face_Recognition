{
 "cells": [
  {
   "cell_type": "code",
   "execution_count": 12,
   "metadata": {},
   "outputs": [],
   "source": [
    "input_data_file = \"/Users/hyeongihong/Documents/bumil_project/yolo_prac/CNN_Face_Recognition/data/desc/training_file.txt\"\n",
    "output_data_file = \"/Users/hyeongihong/Documents/bumil_project/yolo_prac/CNN_Face_Recognition/data/desc/training_file_list.txt\""
   ]
  },
  {
   "cell_type": "code",
   "execution_count": 13,
   "metadata": {},
   "outputs": [],
   "source": [
    "with open(input_data_file, 'r') as infile, open(output_data_file, 'w') as outfile:\n",
    "    for line in infile:\n",
    "        # 각 라인의 앞에 \"data/\"를 추가하고 파일에 쓴다.\n",
    "        line = line.replace(\"desc\", \"dataset\")\n",
    "        outfile.write('data/' + line)"
   ]
  },
  {
   "cell_type": "code",
   "execution_count": null,
   "metadata": {},
   "outputs": [],
   "source": [
    "with open(input_data_file, 'r') as infile, open(output_data_file, 'w') as outfile:\n",
    "    for line in infile:\n",
    "        # 각 라인의 앞에 \"data/\"를 추가하고 파일에 쓴다.\n",
    "        line = line.replace(\"desc\", \"dataset\")\n",
    "        outfile.write(line)"
   ]
  }
 ],
 "metadata": {
  "kernelspec": {
   "display_name": "bumil_langchain",
   "language": "python",
   "name": "python3"
  },
  "language_info": {
   "codemirror_mode": {
    "name": "ipython",
    "version": 3
   },
   "file_extension": ".py",
   "mimetype": "text/x-python",
   "name": "python",
   "nbconvert_exporter": "python",
   "pygments_lexer": "ipython3",
   "version": "3.11.7"
  }
 },
 "nbformat": 4,
 "nbformat_minor": 2
}
